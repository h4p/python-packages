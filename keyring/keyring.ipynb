{
 "cells": [
  {
   "cell_type": "markdown",
   "metadata": {},
   "source": [
    "# Keyring Usage in Python\n",
    "You can store passwords in the systems keyring."
   ]
  },
  {
   "cell_type": "code",
   "execution_count": 1,
   "metadata": {},
   "outputs": [],
   "source": [
    "import keyring\n",
    "import keyring.util.platform_ as keyring_platform"
   ]
  },
  {
   "cell_type": "markdown",
   "metadata": {},
   "source": [
    "### Print out the name and path of the systems keyring"
   ]
  },
  {
   "cell_type": "code",
   "execution_count": 2,
   "metadata": {},
   "outputs": [
    {
     "name": "stdout",
     "output_type": "stream",
     "text": [
      "/Users/twe/.config/python_keyring\n"
     ]
    }
   ],
   "source": [
    "print(keyring_platform.config_root())\n"
   ]
  },
  {
   "cell_type": "code",
   "execution_count": 3,
   "metadata": {},
   "outputs": [
    {
     "name": "stdout",
     "output_type": "stream",
     "text": [
      "keyring.backends.macOS.Keyring (priority: 5)\n"
     ]
    }
   ],
   "source": [
    "print(keyring.get_keyring())\n"
   ]
  },
  {
   "cell_type": "markdown",
   "metadata": {},
   "source": [
    "### Set a password and retrieve it"
   ]
  },
  {
   "cell_type": "code",
   "execution_count": 5,
   "metadata": {},
   "outputs": [
    {
     "name": "stdout",
     "output_type": "stream",
     "text": [
      "a3491fb2-000f-4d9f-943e-127cfe29c39c\n"
     ]
    }
   ],
   "source": [
    "NAMESPACE = \"my-app\"\n",
    "ENTRY = \"API_KEY\"\n",
    "keyring.set_password(NAMESPACE, ENTRY, \"a3491fb2-000f-4d9f-943e-127cfe29c39c\")\n",
    "print(keyring.get_password(NAMESPACE, ENTRY))\n"
   ]
  },
  {
   "cell_type": "code",
   "execution_count": 6,
   "metadata": {},
   "outputs": [
    {
     "name": "stdout",
     "output_type": "stream",
     "text": [
      "Password for username API_KEY in namespace my-app is a3491fb2-000f-4d9f-943e-127cfe29c39c\n"
     ]
    }
   ],
   "source": [
    "cred = keyring.get_credential(NAMESPACE, ENTRY)\n",
    "print(\n",
    "    f\"Password for username {cred.username} in namespace {NAMESPACE} is {cred.password}\")\n"
   ]
  }
 ],
 "metadata": {
  "interpreter": {
   "hash": "a6ca189b574017704602ab8764c2c1643ec51359d3acf74a2fcc856713fb5303"
  },
  "kernelspec": {
   "display_name": "Python 3.9.5 64-bit ('venv': venv)",
   "language": "python",
   "name": "python3"
  },
  "language_info": {
   "codemirror_mode": {
    "name": "ipython",
    "version": 3
   },
   "file_extension": ".py",
   "mimetype": "text/x-python",
   "name": "python",
   "nbconvert_exporter": "python",
   "pygments_lexer": "ipython3",
   "version": "3.9.5"
  },
  "orig_nbformat": 4
 },
 "nbformat": 4,
 "nbformat_minor": 2
}
